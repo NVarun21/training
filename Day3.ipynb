{
  "nbformat": 4,
  "nbformat_minor": 0,
  "metadata": {
    "colab": {
      "provenance": [],
      "authorship_tag": "ABX9TyMX7C71HUfpbfeM/nAMqzLj",
      "include_colab_link": true
    },
    "kernelspec": {
      "name": "python3",
      "display_name": "Python 3"
    },
    "language_info": {
      "name": "python"
    }
  },
  "cells": [
    {
      "cell_type": "markdown",
      "metadata": {
        "id": "view-in-github",
        "colab_type": "text"
      },
      "source": [
        "<a href=\"https://colab.research.google.com/github/NVarun21/training/blob/main/Day3.ipynb\" target=\"_parent\"><img src=\"https://colab.research.google.com/assets/colab-badge.svg\" alt=\"Open In Colab\"/></a>"
      ]
    },
    {
      "cell_type": "code",
      "execution_count": 1,
      "metadata": {
        "colab": {
          "base_uri": "https://localhost:8080/"
        },
        "id": "x2267BI4--O3",
        "outputId": "ddfff2c9-3d4b-4c33-ea0f-d764108d788e"
      },
      "outputs": [
        {
          "output_type": "stream",
          "name": "stdout",
          "text": [
            "100\n",
            "60\n",
            "89\n",
            "Grade: B\n"
          ]
        }
      ],
      "source": [
        "math=int(input())\n",
        "science=int(input())\n",
        "social=int(input())\n",
        "avg=(math+science+social)/3\n",
        "if avg>=90:\n",
        "  print(\"Grade: A\")\n",
        "elif avg>=80 and avg<90:\n",
        "  print(\"Grade: B\")\n",
        "elif avg>=70 and avg<80:\n",
        "  print(\"Grade: C\")\n",
        "elif avg>=60 and avg<70:\n",
        "  print(\"Grade: D\")\n"
      ]
    },
    {
      "cell_type": "code",
      "source": [
        "\n"
      ],
      "metadata": {
        "id": "rV172QYG_2JO"
      },
      "execution_count": null,
      "outputs": []
    }
  ]
}