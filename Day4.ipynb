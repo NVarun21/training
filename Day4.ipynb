{
  "nbformat": 4,
  "nbformat_minor": 0,
  "metadata": {
    "colab": {
      "provenance": [],
      "authorship_tag": "ABX9TyNqoIj6ttMTTZYeX8Gwm8zR",
      "include_colab_link": true
    },
    "kernelspec": {
      "name": "python3",
      "display_name": "Python 3"
    },
    "language_info": {
      "name": "python"
    }
  },
  "cells": [
    {
      "cell_type": "markdown",
      "metadata": {
        "id": "view-in-github",
        "colab_type": "text"
      },
      "source": [
        "<a href=\"https://colab.research.google.com/github/NVarun21/training/blob/main/Day4.ipynb\" target=\"_parent\"><img src=\"https://colab.research.google.com/assets/colab-badge.svg\" alt=\"Open In Colab\"/></a>"
      ]
    },
    {
      "cell_type": "code",
      "execution_count": 2,
      "metadata": {
        "colab": {
          "base_uri": "https://localhost:8080/"
        },
        "id": "tm-8QguY4c3F",
        "outputId": "277342cc-ee05-4fc1-b863-f88e26b765f7"
      },
      "outputs": [
        {
          "output_type": "stream",
          "name": "stdout",
          "text": [
            "10\n",
            "The Sum is: 20\n"
          ]
        }
      ],
      "source": [
        "n=int(input())\n",
        "sum=0\n",
        "for i in range(1,n):\n",
        "    if i%2==0:\n",
        "        sum+=i\n",
        "print(f\"The Sum is: {sum}\")"
      ]
    },
    {
      "cell_type": "code",
      "source": [
        "\n"
      ],
      "metadata": {
        "id": "4tMEpSPD55iv"
      },
      "execution_count": null,
      "outputs": []
    }
  ]
}