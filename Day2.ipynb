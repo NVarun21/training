{
  "nbformat": 4,
  "nbformat_minor": 0,
  "metadata": {
    "colab": {
      "provenance": [],
      "authorship_tag": "ABX9TyNmWoQh6P4j532ToxWwOAkG",
      "include_colab_link": true
    },
    "kernelspec": {
      "name": "python3",
      "display_name": "Python 3"
    },
    "language_info": {
      "name": "python"
    }
  },
  "cells": [
    {
      "cell_type": "markdown",
      "metadata": {
        "id": "view-in-github",
        "colab_type": "text"
      },
      "source": [
        "<a href=\"https://colab.research.google.com/github/NVarun21/training/blob/main/Day2.ipynb\" target=\"_parent\"><img src=\"https://colab.research.google.com/assets/colab-badge.svg\" alt=\"Open In Colab\"/></a>"
      ]
    },
    {
      "cell_type": "code",
      "execution_count": 6,
      "metadata": {
        "colab": {
          "base_uri": "https://localhost:8080/"
        },
        "id": "1a1JCxCy7zFP",
        "outputId": "d6b80ad6-42b2-4696-e5e7-8522edaaa5f5"
      },
      "outputs": [
        {
          "output_type": "stream",
          "name": "stdout",
          "text": [
            "['hyd', 'banglore', 'chennai', 'noida', 'pune']\n",
            "mbnr\n",
            "banglore\n",
            "chennai\n",
            "noida\n",
            "pune\n"
          ]
        }
      ],
      "source": [
        "#list\n",
        "cities=[\"hyd\",\"banglore\",\"chennai\",\"noida\",\"pune\"]\n",
        "print(cities)\n",
        "cities[0]=\"mbnr\"\n",
        "print(cities[0])\n",
        "print(cities[1])\n",
        "print(cities[2])\n",
        "print(cities[3])\n",
        "print(cities[4])"
      ]
    },
    {
      "cell_type": "code",
      "source": [
        "#tuples\n",
        "cities=(\"hyd\",10,\"chennai\",\"noida\",\"pune\")\n",
        "print(cities)\n",
        "print(cities[0])\n",
        "print(cities[1])\n",
        "print(cities[2])\n",
        "print(cities[3])\n",
        "print(cities[4])"
      ],
      "metadata": {
        "colab": {
          "base_uri": "https://localhost:8080/"
        },
        "id": "D1y3ajGn9mE2",
        "outputId": "ddeb1656-75a5-498b-bc1f-16c047f83f11"
      },
      "execution_count": 5,
      "outputs": [
        {
          "output_type": "stream",
          "name": "stdout",
          "text": [
            "('hyd', 10, 'chennai', 'noida', 'pune')\n",
            "hyd\n",
            "10\n",
            "chennai\n",
            "noida\n",
            "pune\n"
          ]
        }
      ]
    },
    {
      "cell_type": "code",
      "source": [
        "#dictionaries\n",
        "fruits={1:\"red\",2:\"yellow\",3:\"green\"}\n",
        "print(fruits)\n",
        "print(fruits[1])\n",
        "print(fruits[2])\n",
        "print(fruits[3])"
      ],
      "metadata": {
        "colab": {
          "base_uri": "https://localhost:8080/"
        },
        "id": "E4YGotwn90EV",
        "outputId": "a3427c73-b1e1-4ed1-d31a-69a3b26f6aca"
      },
      "execution_count": 8,
      "outputs": [
        {
          "output_type": "stream",
          "name": "stdout",
          "text": [
            "{1: 'red', 2: 'yellow', 3: 'green'}\n",
            "red\n",
            "yellow\n",
            "green\n"
          ]
        }
      ]
    },
    {
      "cell_type": "code",
      "source": [],
      "metadata": {
        "id": "IkEYevMt-jEi"
      },
      "execution_count": null,
      "outputs": []
    }
  ]
}